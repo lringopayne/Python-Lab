{
 "cells": [
  {
   "cell_type": "code",
   "execution_count": 2,
   "metadata": {},
   "outputs": [
    {
     "name": "stdout",
     "output_type": "stream",
     "text": [
      "['Oct-12', 'Nov-12', 'Dec-12', 'Jan-13', 'Feb-13', 'Mar-13', 'Apr-13', 'May-13', 'Jun-13', 'Jul-13', 'Aug-13', 'Sep-13', 'Oct-13', 'Nov-13', 'Dec-13', 'Jan-14', 'Feb-14', 'Mar-14', 'Apr-14', 'May-14', 'Jun-14', 'Jul-14', 'Aug-14', 'Sep-14', 'Oct-14', 'Nov-14', 'Dec-14', 'Jan-15', 'Feb-15', 'Mar-15', 'Apr-15', 'May-15', 'Jun-15', 'Jul-15', 'Aug-15', 'Sep-15', 'Oct-15', 'Nov-15', 'Dec-15', 'Jan-16', 'Feb-16']\n",
      "['1154293', '885773', '-448704', '563679', '555394', '631974', '957395', '1104047', '693464', '454932', '727272', '125016', '339251', '78523', '977084', '1158718', '332681', '-341227', '173826', '742611', '1189806', '607363', '-1172384', '587993', '295198', '-300390', '468995', '698452', '967828', '-454873', '375723', '1140526', '83836', '413189', '551363', '1195111', '657081', '66659', '803301', '-953301', '883934']\n",
      "Total Number of Months:41\n",
      "Total Amount of Revenue:$18971412\n",
      "Greatest Increase in Profits:Sep-15 $1195111\n",
      "Greatest Decrease in Profits:Aug-14 $-1172384\n",
      "Total Average Amount over Period:$462717.37\n"
     ]
    }
   ],
   "source": [
    "#import dependencies\n",
    "import csv\n",
    "import os\n",
    "\n",
    "\n",
    "#Variables\n",
    "Dates = []\n",
    "Revenue = []\n",
    "\n",
    "#load budget data\n",
    "with open(\"budget_data.csv\") as budgetdata:\n",
    "    data = csv.reader(budgetdata, delimiter=',')\n",
    "\n",
    "#Defined Variable\n",
    "    for row in data:\n",
    "        Dates.append(row[0])\n",
    "        Revenue.append(row[1])\n",
    "    \n",
    "    Dates = Dates[1:]\n",
    "    print(Dates)\n",
    "\n",
    "    Revenue = Revenue[1:]\n",
    "    print(Revenue)\n",
    "\n",
    "#Total Number of Months  \n",
    "    print(f'Total Number of Months:{len(Dates)}')\n",
    "\n",
    "#Summation of Revenue\n",
    "    Summation = 0\n",
    "    \n",
    "    for row in Revenue:\n",
    "        Summation = Summation + int(row)\n",
    "    \n",
    "    print(f'Total Amount of Revenue:${Summation}')\n",
    "\n",
    "# Greatest Increase in Profits with date\n",
    "    greatest = 0\n",
    "    \n",
    "    for row in Revenue:\n",
    "        if greatest < int(row):\n",
    "            greatest = int(row)\n",
    "        else: \n",
    "            greatest = greatest \n",
    "            \n",
    "    print(f'Greatest Increase in Profits:{Dates[Revenue.index(str(greatest))]} ${greatest}')\n",
    "    \n",
    "#Greatest Decrease in Profits with date\n",
    "    least = greatest\n",
    "    \n",
    "    for row in Revenue:\n",
    "        if least > int(row):\n",
    "            least = int(row)\n",
    "        else: \n",
    "            least = least\n",
    "    \n",
    "    print(f'Greatest Decrease in Profits:{Dates[Revenue.index(str(least))]} ${least}')\n",
    "    \n",
    "#Average Change over Period    \n",
    "  \n",
    "    print(f'Total Average Amount over Period:${round(Summation/len(Revenue),2)}')\n",
    "    \n",
    "    \n",
    "\n",
    "   \n",
    "    \n"
   ]
  },
  {
   "cell_type": "code",
   "execution_count": null,
   "metadata": {},
   "outputs": [],
   "source": [
    " "
   ]
  }
 ],
 "metadata": {
  "kernelspec": {
   "display_name": "Python 3",
   "language": "python",
   "name": "python3"
  },
  "language_info": {
   "codemirror_mode": {
    "name": "ipython",
    "version": 3
   },
   "file_extension": ".py",
   "mimetype": "text/x-python",
   "name": "python",
   "nbconvert_exporter": "python",
   "pygments_lexer": "ipython3",
   "version": "3.6.5"
  }
 },
 "nbformat": 4,
 "nbformat_minor": 2
}
